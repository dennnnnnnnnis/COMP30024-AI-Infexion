{
 "cells": [
  {
   "cell_type": "code",
   "execution_count": 1,
   "metadata": {},
   "outputs": [
    {
     "name": "stdout",
     "output_type": "stream",
     "text": [
      "hello\n"
     ]
    }
   ],
   "source": [
    "print(\"hello\")"
   ]
  },
  {
   "cell_type": "code",
   "execution_count": 90,
   "metadata": {},
   "outputs": [],
   "source": [
    "import numpy as np\n",
    "from sklearn.neural_network import MLPClassifier\n",
    "from collections import defaultdict\n",
    "import pandas as pd\n",
    "from sklearn.model_selection import train_test_split\n",
    "from sklearn.preprocessing import StandardScaler\n",
    "import joblib\n",
    "import pickle\n",
    "\n",
    "import sys\n",
    "import os\n",
    "\n",
    "# Add the current directory to the Python path\n",
    "current_dir = os.path.dirname(os.path.abspath(\"/Users/wangzeyu/Desktop/AI/part_b/agent\"))\n",
    "sys.path.append(current_dir)\n",
    "\n",
    "from agent import Agent\n",
    "from referee.game import \\\n",
    "    PlayerColor, Action, SpawnAction, SpreadAction, HexPos, HexDir, constants, Board"
   ]
  },
  {
   "cell_type": "code",
   "execution_count": null,
   "metadata": {},
   "outputs": [],
   "source": [
    "def get_feature_vector(state: Board):\n",
    "    feature_dict = defaultdict(list)\n",
    "    feature_dict[\"num_red_cells\"] = len(state._player_cells(PlayerColor.RED))\n",
    "    feature_dict[\"num_blue_cells\"] = len(state._player_cells(PlayerColor.BLUE))\n",
    "    feature_dict[\"num_blank_cells\"] = constants.MAX_TOTAL_POWER - feature_dict[\"num_red_cells\"] - feature_dict[\"num_blue_cells\"]\n",
    "    feature_dict[\"red_total_power\"] = state._color_power(PlayerColor.RED)\n",
    "    feature_dict[\"blue_total_power\"] = state._color_power(PlayerColor.BLUE)\n",
    "    feature_dict[\"turn_count\"] = state.turn_count\n",
    "    feature_dict[\"turn_color\"] = state.turn_color\n",
    "    return feature_dict"
   ]
  },
  {
   "cell_type": "code",
   "execution_count": 29,
   "metadata": {},
   "outputs": [
    {
     "name": "stdout",
     "output_type": "stream",
     "text": [
      "<class 'pandas.core.frame.DataFrame'>\n",
      "RangeIndex: 102 entries, 0 to 101\n",
      "Data columns (total 8 columns):\n",
      " #   Column            Non-Null Count  Dtype\n",
      "---  ------            --------------  -----\n",
      " 0   num_red_cells     102 non-null    int64\n",
      " 1   num_blue_cells    102 non-null    int64\n",
      " 2   num_blank_cells   102 non-null    int64\n",
      " 3   red_total_power   102 non-null    int64\n",
      " 4   blue_total_power  102 non-null    int64\n",
      " 5   turn_count        102 non-null    int64\n",
      " 6   turn_color        102 non-null    int64\n",
      " 7   result            102 non-null    int64\n",
      "dtypes: int64(8)\n",
      "memory usage: 6.5 KB\n",
      "   num_red_cells  num_blue_cells  num_blank_cells  red_total_power  \\\n",
      "0             11              18               20               18   \n",
      "1             11              15               23               21   \n",
      "2             17               8               24               35   \n",
      "3             12              11               26               29   \n",
      "4             13              14               22               17   \n",
      "\n",
      "   blue_total_power  turn_count  turn_color  result  \n",
      "0                26         343           1       1  \n",
      "1                28         343           1       1  \n",
      "2                14         343           1       0  \n",
      "3                17         343           1       0  \n",
      "4                32         343           1       1  \n"
     ]
    }
   ],
   "source": [
    "df = pd.read_csv(\"/Users/wangzeyu/Desktop/AI/part_b/agent/game_states.csv\")\n",
    "# replace the unwanted index column\n",
    "df.drop(columns=[\"Unnamed: 0\"], inplace=True, errors=\"ignore\")\n",
    "df.info()\n",
    "print(df.head(5))"
   ]
  },
  {
   "cell_type": "code",
   "execution_count": 95,
   "metadata": {},
   "outputs": [
    {
     "name": "stderr",
     "output_type": "stream",
     "text": [
      "/Library/Frameworks/Python.framework/Versions/3.10/lib/python3.10/site-packages/sklearn/base.py:450: UserWarning: X does not have valid feature names, but MLPClassifier was fitted with feature names\n",
      "  warnings.warn(\n"
     ]
    },
    {
     "data": {
      "text/plain": [
       "array([[0.27290189, 0.30783253, 0.41926558]])"
      ]
     },
     "execution_count": 95,
     "metadata": {},
     "output_type": "execute_result"
    }
   ],
   "source": [
    "X = df.drop(columns=[\"result\"], inplace=False)\n",
    "y = df[\"result\"]\n",
    "\n",
    "X_train, X_test, y_train, y_test = train_test_split(X, y, test_size=0.2, stratify=y, random_state=42)\n",
    "clf = MLPClassifier(hidden_layer_sizes=(14,), solver='lbfgs', random_state=1).fit(X_train, y_train)\n",
    "clf.predict_proba(X_test[:1])[0]\n",
    "# clf.predict_proba(np.reshape([2, 1, 46, 2, 1, 3, 0], (1, -1)))\n",
    "clf.score(X_test, y_test)\n",
    "# clf.coefs_\n",
    "# clf.intercepts\n",
    "clf.predict_proba(np.reshape([2, 1, 46, 2, 1, 3, 0], (1, -1)))\n"
   ]
  },
  {
   "cell_type": "code",
   "execution_count": 91,
   "metadata": {},
   "outputs": [],
   "source": [
    "with open('clf.pkl', 'wb') as f:\n",
    "    pickle.dump(clf, f)"
   ]
  }
 ],
 "metadata": {
  "kernelspec": {
   "display_name": "Python 3",
   "language": "python",
   "name": "python3"
  },
  "language_info": {
   "codemirror_mode": {
    "name": "ipython",
    "version": 3
   },
   "file_extension": ".py",
   "mimetype": "text/x-python",
   "name": "python",
   "nbconvert_exporter": "python",
   "pygments_lexer": "ipython3",
   "version": "3.10.4"
  },
  "orig_nbformat": 4
 },
 "nbformat": 4,
 "nbformat_minor": 2
}
